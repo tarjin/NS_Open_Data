{
 "cells": [
  {
   "cell_type": "markdown",
   "metadata": {
    "collapsed": true
   },
   "source": [
    "# Storytelling with Open Data and Python"
   ]
  },
  {
   "cell_type": "code",
   "execution_count": 1,
   "metadata": {},
   "outputs": [
    {
     "name": "stdout",
     "output_type": "stream",
     "text": [
      "3.6.2 |Anaconda custom (64-bit)| (default, Jul 20 2017, 13:51:32) \n",
      "[GCC 4.4.7 20120313 (Red Hat 4.4.7-1)]\n"
     ]
    }
   ],
   "source": [
    "import pandas as pd\n",
    "import numpy as np\n",
    "import matplotlib.pyplot as plt\n",
    "import seaborn as sns\n",
    "import sys\n",
    "\n",
    "print(sys.version)\n",
    "%matplotlib inline"
   ]
  },
  {
   "cell_type": "markdown",
   "metadata": {},
   "source": [
    "# Nova Scotia"
   ]
  },
  {
   "cell_type": "markdown",
   "metadata": {},
   "source": [
    "## Consumer Protection Complaints Types and Frequency"
   ]
  },
  {
   "cell_type": "markdown",
   "metadata": {},
   "source": [
    "### Plot for 2015 data"
   ]
  },
  {
   "cell_type": "markdown",
   "metadata": {},
   "source": [
    "About this dataset: https://data.novascotia.ca/Business-and-Industry/Consumer-Protection-Complaints-Types-and-Frequency/myt7-2fzu\n",
    "\n",
    "Time period: 2015-01-01/2016-12-31"
   ]
  },
  {
   "cell_type": "code",
   "execution_count": 2,
   "metadata": {
    "collapsed": true
   },
   "outputs": [],
   "source": [
    "df = pd.read_csv(\"https://raw.githubusercontent.com/tarjin/NS_Open_Data/master/Consumer_Protection_Complaints_Types_and_Frequency.csv\")"
   ]
  },
  {
   "cell_type": "code",
   "execution_count": 3,
   "metadata": {},
   "outputs": [
    {
     "name": "stdout",
     "output_type": "stream",
     "text": [
      "<class 'pandas.core.frame.DataFrame'>\n",
      "RangeIndex: 50 entries, 0 to 49\n",
      "Data columns (total 4 columns):\n",
      "Complaint Type          50 non-null object\n",
      "Sub Category            50 non-null object\n",
      "Year                    50 non-null object\n",
      "Number of Complaints    50 non-null int64\n",
      "dtypes: int64(1), object(3)\n",
      "memory usage: 1.6+ KB\n"
     ]
    }
   ],
   "source": [
    "df.info()"
   ]
  },
  {
   "cell_type": "code",
   "execution_count": 4,
   "metadata": {},
   "outputs": [
    {
     "data": {
      "text/html": [
       "<div>\n",
       "<style>\n",
       "    .dataframe thead tr:only-child th {\n",
       "        text-align: right;\n",
       "    }\n",
       "\n",
       "    .dataframe thead th {\n",
       "        text-align: left;\n",
       "    }\n",
       "\n",
       "    .dataframe tbody tr th {\n",
       "        vertical-align: top;\n",
       "    }\n",
       "</style>\n",
       "<table border=\"1\" class=\"dataframe\">\n",
       "  <thead>\n",
       "    <tr style=\"text-align: right;\">\n",
       "      <th></th>\n",
       "      <th>Complaint Type</th>\n",
       "      <th>Sub Category</th>\n",
       "      <th>Year</th>\n",
       "      <th>Number of Complaints</th>\n",
       "    </tr>\n",
       "  </thead>\n",
       "  <tbody>\n",
       "    <tr>\n",
       "      <th>0</th>\n",
       "      <td>Borrowing Money</td>\n",
       "      <td>Complaint</td>\n",
       "      <td>01/01/2015 12:00:00 AM</td>\n",
       "      <td>10</td>\n",
       "    </tr>\n",
       "    <tr>\n",
       "      <th>1</th>\n",
       "      <td>Cemetery and Funeral Services</td>\n",
       "      <td>Complaint</td>\n",
       "      <td>01/01/2015 12:00:00 AM</td>\n",
       "      <td>1</td>\n",
       "    </tr>\n",
       "    <tr>\n",
       "      <th>2</th>\n",
       "      <td>Collection Practice</td>\n",
       "      <td>Complaint</td>\n",
       "      <td>01/01/2015 12:00:00 AM</td>\n",
       "      <td>73</td>\n",
       "    </tr>\n",
       "    <tr>\n",
       "      <th>3</th>\n",
       "      <td>Consumer Credit Reporting</td>\n",
       "      <td>Complaint</td>\n",
       "      <td>01/01/2015 12:00:00 AM</td>\n",
       "      <td>11</td>\n",
       "    </tr>\n",
       "    <tr>\n",
       "      <th>4</th>\n",
       "      <td>Consumer Purchase</td>\n",
       "      <td>Complaint</td>\n",
       "      <td>01/01/2015 12:00:00 AM</td>\n",
       "      <td>72</td>\n",
       "    </tr>\n",
       "  </tbody>\n",
       "</table>\n",
       "</div>"
      ],
      "text/plain": [
       "                  Complaint Type Sub Category                    Year  \\\n",
       "0                Borrowing Money    Complaint  01/01/2015 12:00:00 AM   \n",
       "1  Cemetery and Funeral Services    Complaint  01/01/2015 12:00:00 AM   \n",
       "2            Collection Practice    Complaint  01/01/2015 12:00:00 AM   \n",
       "3      Consumer Credit Reporting    Complaint  01/01/2015 12:00:00 AM   \n",
       "4              Consumer Purchase    Complaint  01/01/2015 12:00:00 AM   \n",
       "\n",
       "   Number of Complaints  \n",
       "0                    10  \n",
       "1                     1  \n",
       "2                    73  \n",
       "3                    11  \n",
       "4                    72  "
      ]
     },
     "execution_count": 4,
     "metadata": {},
     "output_type": "execute_result"
    }
   ],
   "source": [
    "df.head()"
   ]
  },
  {
   "cell_type": "code",
   "execution_count": 5,
   "metadata": {
    "collapsed": true
   },
   "outputs": [],
   "source": [
    "df['Complaint Type'] = df['Complaint Type'].astype('category')"
   ]
  },
  {
   "cell_type": "code",
   "execution_count": 6,
   "metadata": {},
   "outputs": [
    {
     "name": "stdout",
     "output_type": "stream",
     "text": [
      "<class 'pandas.core.frame.DataFrame'>\n",
      "RangeIndex: 50 entries, 0 to 49\n",
      "Data columns (total 4 columns):\n",
      "Complaint Type          50 non-null category\n",
      "Sub Category            50 non-null object\n",
      "Year                    50 non-null object\n",
      "Number of Complaints    50 non-null int64\n",
      "dtypes: category(1), int64(1), object(2)\n",
      "memory usage: 2.1+ KB\n"
     ]
    }
   ],
   "source": [
    "df.info()"
   ]
  },
  {
   "cell_type": "code",
   "execution_count": 7,
   "metadata": {},
   "outputs": [
    {
     "data": {
      "text/html": [
       "<div>\n",
       "<style>\n",
       "    .dataframe thead tr:only-child th {\n",
       "        text-align: right;\n",
       "    }\n",
       "\n",
       "    .dataframe thead th {\n",
       "        text-align: left;\n",
       "    }\n",
       "\n",
       "    .dataframe tbody tr th {\n",
       "        vertical-align: top;\n",
       "    }\n",
       "</style>\n",
       "<table border=\"1\" class=\"dataframe\">\n",
       "  <thead>\n",
       "    <tr style=\"text-align: right;\">\n",
       "      <th></th>\n",
       "      <th>Complaint Type</th>\n",
       "      <th>Sub Category</th>\n",
       "      <th>Year</th>\n",
       "      <th>Number of Complaints</th>\n",
       "    </tr>\n",
       "  </thead>\n",
       "  <tbody>\n",
       "    <tr>\n",
       "      <th>0</th>\n",
       "      <td>Borrowing Money</td>\n",
       "      <td>Complaint</td>\n",
       "      <td>01/01/2015 12:00:00 AM</td>\n",
       "      <td>10</td>\n",
       "    </tr>\n",
       "    <tr>\n",
       "      <th>1</th>\n",
       "      <td>Cemetery and Funeral Services</td>\n",
       "      <td>Complaint</td>\n",
       "      <td>01/01/2015 12:00:00 AM</td>\n",
       "      <td>1</td>\n",
       "    </tr>\n",
       "    <tr>\n",
       "      <th>2</th>\n",
       "      <td>Collection Practice</td>\n",
       "      <td>Complaint</td>\n",
       "      <td>01/01/2015 12:00:00 AM</td>\n",
       "      <td>73</td>\n",
       "    </tr>\n",
       "    <tr>\n",
       "      <th>3</th>\n",
       "      <td>Consumer Credit Reporting</td>\n",
       "      <td>Complaint</td>\n",
       "      <td>01/01/2015 12:00:00 AM</td>\n",
       "      <td>11</td>\n",
       "    </tr>\n",
       "    <tr>\n",
       "      <th>4</th>\n",
       "      <td>Consumer Purchase</td>\n",
       "      <td>Complaint</td>\n",
       "      <td>01/01/2015 12:00:00 AM</td>\n",
       "      <td>72</td>\n",
       "    </tr>\n",
       "    <tr>\n",
       "      <th>5</th>\n",
       "      <td>Direct Selling</td>\n",
       "      <td>Complaint</td>\n",
       "      <td>01/01/2015 12:00:00 AM</td>\n",
       "      <td>3</td>\n",
       "    </tr>\n",
       "    <tr>\n",
       "      <th>6</th>\n",
       "      <td>Other</td>\n",
       "      <td>Complaint</td>\n",
       "      <td>01/01/2015 12:00:00 AM</td>\n",
       "      <td>36</td>\n",
       "    </tr>\n",
       "    <tr>\n",
       "      <th>7</th>\n",
       "      <td>Automotive Sales/Services</td>\n",
       "      <td>Industry</td>\n",
       "      <td>01/01/2015 12:00:00 AM</td>\n",
       "      <td>17</td>\n",
       "    </tr>\n",
       "    <tr>\n",
       "      <th>8</th>\n",
       "      <td>Distance Sales</td>\n",
       "      <td>Industry</td>\n",
       "      <td>01/01/2015 12:00:00 AM</td>\n",
       "      <td>7</td>\n",
       "    </tr>\n",
       "    <tr>\n",
       "      <th>9</th>\n",
       "      <td>Financial Institution</td>\n",
       "      <td>Industry</td>\n",
       "      <td>01/01/2015 12:00:00 AM</td>\n",
       "      <td>9</td>\n",
       "    </tr>\n",
       "    <tr>\n",
       "      <th>10</th>\n",
       "      <td>Home Repair or Renovation</td>\n",
       "      <td>Industry</td>\n",
       "      <td>01/01/2015 12:00:00 AM</td>\n",
       "      <td>17</td>\n",
       "    </tr>\n",
       "    <tr>\n",
       "      <th>11</th>\n",
       "      <td>Insurance</td>\n",
       "      <td>Industry</td>\n",
       "      <td>01/01/2015 12:00:00 AM</td>\n",
       "      <td>4</td>\n",
       "    </tr>\n",
       "    <tr>\n",
       "      <th>12</th>\n",
       "      <td>Internet</td>\n",
       "      <td>Industry</td>\n",
       "      <td>01/01/2015 12:00:00 AM</td>\n",
       "      <td>4</td>\n",
       "    </tr>\n",
       "    <tr>\n",
       "      <th>13</th>\n",
       "      <td>Not Applicable</td>\n",
       "      <td>Industry</td>\n",
       "      <td>01/01/2015 12:00:00 AM</td>\n",
       "      <td>4</td>\n",
       "    </tr>\n",
       "    <tr>\n",
       "      <th>14</th>\n",
       "      <td>Other</td>\n",
       "      <td>Industry</td>\n",
       "      <td>01/01/2015 12:00:00 AM</td>\n",
       "      <td>114</td>\n",
       "    </tr>\n",
       "    <tr>\n",
       "      <th>15</th>\n",
       "      <td>Retail Business</td>\n",
       "      <td>Industry</td>\n",
       "      <td>01/01/2015 12:00:00 AM</td>\n",
       "      <td>27</td>\n",
       "    </tr>\n",
       "    <tr>\n",
       "      <th>16</th>\n",
       "      <td>Travel</td>\n",
       "      <td>Industry</td>\n",
       "      <td>01/01/2015 12:00:00 AM</td>\n",
       "      <td>3</td>\n",
       "    </tr>\n",
       "    <tr>\n",
       "      <th>17</th>\n",
       "      <td>Advertising</td>\n",
       "      <td>Concern Complaint</td>\n",
       "      <td>01/01/2015 12:00:00 AM</td>\n",
       "      <td>1</td>\n",
       "    </tr>\n",
       "    <tr>\n",
       "      <th>18</th>\n",
       "      <td>Billing/Pricing</td>\n",
       "      <td>Concern Complaint</td>\n",
       "      <td>01/01/2015 12:00:00 AM</td>\n",
       "      <td>14</td>\n",
       "    </tr>\n",
       "    <tr>\n",
       "      <th>19</th>\n",
       "      <td>Disclosure of Information</td>\n",
       "      <td>Concern Complaint</td>\n",
       "      <td>01/01/2015 12:00:00 AM</td>\n",
       "      <td>6</td>\n",
       "    </tr>\n",
       "    <tr>\n",
       "      <th>20</th>\n",
       "      <td>Failure to Fulfill Contract</td>\n",
       "      <td>Concern Complaint</td>\n",
       "      <td>01/01/2015 12:00:00 AM</td>\n",
       "      <td>12</td>\n",
       "    </tr>\n",
       "    <tr>\n",
       "      <th>21</th>\n",
       "      <td>Fruad/Deceptive Practices</td>\n",
       "      <td>Concern Complaint</td>\n",
       "      <td>01/01/2015 12:00:00 AM</td>\n",
       "      <td>9</td>\n",
       "    </tr>\n",
       "    <tr>\n",
       "      <th>22</th>\n",
       "      <td>Not Applicable</td>\n",
       "      <td>Concern Complaint</td>\n",
       "      <td>01/01/2015 12:00:00 AM</td>\n",
       "      <td>6</td>\n",
       "    </tr>\n",
       "    <tr>\n",
       "      <th>23</th>\n",
       "      <td>Other</td>\n",
       "      <td>Concern Complaint</td>\n",
       "      <td>01/01/2015 12:00:00 AM</td>\n",
       "      <td>150</td>\n",
       "    </tr>\n",
       "    <tr>\n",
       "      <th>24</th>\n",
       "      <td>Product Warranty</td>\n",
       "      <td>Concern Complaint</td>\n",
       "      <td>01/01/2015 12:00:00 AM</td>\n",
       "      <td>8</td>\n",
       "    </tr>\n",
       "    <tr>\n",
       "      <th>25</th>\n",
       "      <td>Borrowing Money</td>\n",
       "      <td>Complaint</td>\n",
       "      <td>01/01/2016 12:00:00 AM</td>\n",
       "      <td>5</td>\n",
       "    </tr>\n",
       "    <tr>\n",
       "      <th>26</th>\n",
       "      <td>Cemetery and Funeral Services</td>\n",
       "      <td>Complaint</td>\n",
       "      <td>01/01/2016 12:00:00 AM</td>\n",
       "      <td>4</td>\n",
       "    </tr>\n",
       "    <tr>\n",
       "      <th>27</th>\n",
       "      <td>Collection Practice</td>\n",
       "      <td>Complaint</td>\n",
       "      <td>01/01/2016 12:00:00 AM</td>\n",
       "      <td>62</td>\n",
       "    </tr>\n",
       "    <tr>\n",
       "      <th>28</th>\n",
       "      <td>Consumer Credit Reporting</td>\n",
       "      <td>Complaint</td>\n",
       "      <td>01/01/2016 12:00:00 AM</td>\n",
       "      <td>5</td>\n",
       "    </tr>\n",
       "    <tr>\n",
       "      <th>29</th>\n",
       "      <td>Consumer Purchase</td>\n",
       "      <td>Complaint</td>\n",
       "      <td>01/01/2016 12:00:00 AM</td>\n",
       "      <td>62</td>\n",
       "    </tr>\n",
       "    <tr>\n",
       "      <th>30</th>\n",
       "      <td>Direct Selling</td>\n",
       "      <td>Complaint</td>\n",
       "      <td>01/01/2016 12:00:00 AM</td>\n",
       "      <td>5</td>\n",
       "    </tr>\n",
       "    <tr>\n",
       "      <th>31</th>\n",
       "      <td>Other</td>\n",
       "      <td>Complaint</td>\n",
       "      <td>01/01/2016 12:00:00 AM</td>\n",
       "      <td>35</td>\n",
       "    </tr>\n",
       "    <tr>\n",
       "      <th>32</th>\n",
       "      <td>Automotive Sales/Services</td>\n",
       "      <td>Industry</td>\n",
       "      <td>01/01/2016 12:00:00 AM</td>\n",
       "      <td>7</td>\n",
       "    </tr>\n",
       "    <tr>\n",
       "      <th>33</th>\n",
       "      <td>Distance Sales</td>\n",
       "      <td>Industry</td>\n",
       "      <td>01/01/2016 12:00:00 AM</td>\n",
       "      <td>3</td>\n",
       "    </tr>\n",
       "    <tr>\n",
       "      <th>34</th>\n",
       "      <td>Financial Institution</td>\n",
       "      <td>Industry</td>\n",
       "      <td>01/01/2016 12:00:00 AM</td>\n",
       "      <td>9</td>\n",
       "    </tr>\n",
       "    <tr>\n",
       "      <th>35</th>\n",
       "      <td>Home Repair or Renovation</td>\n",
       "      <td>Industry</td>\n",
       "      <td>01/01/2016 12:00:00 AM</td>\n",
       "      <td>8</td>\n",
       "    </tr>\n",
       "    <tr>\n",
       "      <th>36</th>\n",
       "      <td>Insurance</td>\n",
       "      <td>Industry</td>\n",
       "      <td>01/01/2016 12:00:00 AM</td>\n",
       "      <td>2</td>\n",
       "    </tr>\n",
       "    <tr>\n",
       "      <th>37</th>\n",
       "      <td>Internet</td>\n",
       "      <td>Industry</td>\n",
       "      <td>01/01/2016 12:00:00 AM</td>\n",
       "      <td>7</td>\n",
       "    </tr>\n",
       "    <tr>\n",
       "      <th>38</th>\n",
       "      <td>Not Applicable</td>\n",
       "      <td>Industry</td>\n",
       "      <td>01/01/2016 12:00:00 AM</td>\n",
       "      <td>2</td>\n",
       "    </tr>\n",
       "    <tr>\n",
       "      <th>39</th>\n",
       "      <td>Other</td>\n",
       "      <td>Industry</td>\n",
       "      <td>01/01/2016 12:00:00 AM</td>\n",
       "      <td>109</td>\n",
       "    </tr>\n",
       "    <tr>\n",
       "      <th>40</th>\n",
       "      <td>Retail Business</td>\n",
       "      <td>Industry</td>\n",
       "      <td>01/01/2016 12:00:00 AM</td>\n",
       "      <td>29</td>\n",
       "    </tr>\n",
       "    <tr>\n",
       "      <th>41</th>\n",
       "      <td>Travel</td>\n",
       "      <td>Industry</td>\n",
       "      <td>01/01/2016 12:00:00 AM</td>\n",
       "      <td>2</td>\n",
       "    </tr>\n",
       "    <tr>\n",
       "      <th>42</th>\n",
       "      <td>Advertising</td>\n",
       "      <td>Concern Complaint</td>\n",
       "      <td>01/01/2016 12:00:00 AM</td>\n",
       "      <td>1</td>\n",
       "    </tr>\n",
       "    <tr>\n",
       "      <th>43</th>\n",
       "      <td>Billing/Pricing</td>\n",
       "      <td>Concern Complaint</td>\n",
       "      <td>01/01/2016 12:00:00 AM</td>\n",
       "      <td>16</td>\n",
       "    </tr>\n",
       "    <tr>\n",
       "      <th>44</th>\n",
       "      <td>Disclosure of Information</td>\n",
       "      <td>Concern Complaint</td>\n",
       "      <td>01/01/2016 12:00:00 AM</td>\n",
       "      <td>5</td>\n",
       "    </tr>\n",
       "    <tr>\n",
       "      <th>45</th>\n",
       "      <td>Failure to Fulfill Contract</td>\n",
       "      <td>Concern Complaint</td>\n",
       "      <td>01/01/2016 12:00:00 AM</td>\n",
       "      <td>10</td>\n",
       "    </tr>\n",
       "    <tr>\n",
       "      <th>46</th>\n",
       "      <td>Fruad/Deceptive Practices</td>\n",
       "      <td>Concern Complaint</td>\n",
       "      <td>01/01/2016 12:00:00 AM</td>\n",
       "      <td>6</td>\n",
       "    </tr>\n",
       "    <tr>\n",
       "      <th>47</th>\n",
       "      <td>Not Applicable</td>\n",
       "      <td>Concern Complaint</td>\n",
       "      <td>01/01/2016 12:00:00 AM</td>\n",
       "      <td>2</td>\n",
       "    </tr>\n",
       "    <tr>\n",
       "      <th>48</th>\n",
       "      <td>Other</td>\n",
       "      <td>Concern Complaint</td>\n",
       "      <td>01/01/2016 12:00:00 AM</td>\n",
       "      <td>134</td>\n",
       "    </tr>\n",
       "    <tr>\n",
       "      <th>49</th>\n",
       "      <td>Product Warranty</td>\n",
       "      <td>Concern Complaint</td>\n",
       "      <td>01/01/2016 12:00:00 AM</td>\n",
       "      <td>4</td>\n",
       "    </tr>\n",
       "  </tbody>\n",
       "</table>\n",
       "</div>"
      ],
      "text/plain": [
       "                   Complaint Type       Sub Category                    Year  \\\n",
       "0                 Borrowing Money          Complaint  01/01/2015 12:00:00 AM   \n",
       "1   Cemetery and Funeral Services          Complaint  01/01/2015 12:00:00 AM   \n",
       "2             Collection Practice          Complaint  01/01/2015 12:00:00 AM   \n",
       "3       Consumer Credit Reporting          Complaint  01/01/2015 12:00:00 AM   \n",
       "4               Consumer Purchase          Complaint  01/01/2015 12:00:00 AM   \n",
       "5                  Direct Selling          Complaint  01/01/2015 12:00:00 AM   \n",
       "6                           Other          Complaint  01/01/2015 12:00:00 AM   \n",
       "7       Automotive Sales/Services           Industry  01/01/2015 12:00:00 AM   \n",
       "8                  Distance Sales           Industry  01/01/2015 12:00:00 AM   \n",
       "9           Financial Institution           Industry  01/01/2015 12:00:00 AM   \n",
       "10      Home Repair or Renovation           Industry  01/01/2015 12:00:00 AM   \n",
       "11                      Insurance           Industry  01/01/2015 12:00:00 AM   \n",
       "12                       Internet           Industry  01/01/2015 12:00:00 AM   \n",
       "13                 Not Applicable           Industry  01/01/2015 12:00:00 AM   \n",
       "14                         Other            Industry  01/01/2015 12:00:00 AM   \n",
       "15                Retail Business           Industry  01/01/2015 12:00:00 AM   \n",
       "16                         Travel           Industry  01/01/2015 12:00:00 AM   \n",
       "17                    Advertising  Concern Complaint  01/01/2015 12:00:00 AM   \n",
       "18                Billing/Pricing  Concern Complaint  01/01/2015 12:00:00 AM   \n",
       "19      Disclosure of Information  Concern Complaint  01/01/2015 12:00:00 AM   \n",
       "20    Failure to Fulfill Contract  Concern Complaint  01/01/2015 12:00:00 AM   \n",
       "21      Fruad/Deceptive Practices  Concern Complaint  01/01/2015 12:00:00 AM   \n",
       "22                 Not Applicable  Concern Complaint  01/01/2015 12:00:00 AM   \n",
       "23                         Other   Concern Complaint  01/01/2015 12:00:00 AM   \n",
       "24               Product Warranty  Concern Complaint  01/01/2015 12:00:00 AM   \n",
       "25                Borrowing Money          Complaint  01/01/2016 12:00:00 AM   \n",
       "26  Cemetery and Funeral Services          Complaint  01/01/2016 12:00:00 AM   \n",
       "27            Collection Practice          Complaint  01/01/2016 12:00:00 AM   \n",
       "28      Consumer Credit Reporting          Complaint  01/01/2016 12:00:00 AM   \n",
       "29              Consumer Purchase          Complaint  01/01/2016 12:00:00 AM   \n",
       "30                 Direct Selling          Complaint  01/01/2016 12:00:00 AM   \n",
       "31                          Other          Complaint  01/01/2016 12:00:00 AM   \n",
       "32      Automotive Sales/Services           Industry  01/01/2016 12:00:00 AM   \n",
       "33                 Distance Sales           Industry  01/01/2016 12:00:00 AM   \n",
       "34          Financial Institution           Industry  01/01/2016 12:00:00 AM   \n",
       "35      Home Repair or Renovation           Industry  01/01/2016 12:00:00 AM   \n",
       "36                      Insurance           Industry  01/01/2016 12:00:00 AM   \n",
       "37                       Internet           Industry  01/01/2016 12:00:00 AM   \n",
       "38                 Not Applicable           Industry  01/01/2016 12:00:00 AM   \n",
       "39                         Other            Industry  01/01/2016 12:00:00 AM   \n",
       "40                Retail Business           Industry  01/01/2016 12:00:00 AM   \n",
       "41                         Travel           Industry  01/01/2016 12:00:00 AM   \n",
       "42                    Advertising  Concern Complaint  01/01/2016 12:00:00 AM   \n",
       "43                Billing/Pricing  Concern Complaint  01/01/2016 12:00:00 AM   \n",
       "44      Disclosure of Information  Concern Complaint  01/01/2016 12:00:00 AM   \n",
       "45    Failure to Fulfill Contract  Concern Complaint  01/01/2016 12:00:00 AM   \n",
       "46      Fruad/Deceptive Practices  Concern Complaint  01/01/2016 12:00:00 AM   \n",
       "47                 Not Applicable  Concern Complaint  01/01/2016 12:00:00 AM   \n",
       "48                         Other   Concern Complaint  01/01/2016 12:00:00 AM   \n",
       "49               Product Warranty  Concern Complaint  01/01/2016 12:00:00 AM   \n",
       "\n",
       "    Number of Complaints  \n",
       "0                     10  \n",
       "1                      1  \n",
       "2                     73  \n",
       "3                     11  \n",
       "4                     72  \n",
       "5                      3  \n",
       "6                     36  \n",
       "7                     17  \n",
       "8                      7  \n",
       "9                      9  \n",
       "10                    17  \n",
       "11                     4  \n",
       "12                     4  \n",
       "13                     4  \n",
       "14                   114  \n",
       "15                    27  \n",
       "16                     3  \n",
       "17                     1  \n",
       "18                    14  \n",
       "19                     6  \n",
       "20                    12  \n",
       "21                     9  \n",
       "22                     6  \n",
       "23                   150  \n",
       "24                     8  \n",
       "25                     5  \n",
       "26                     4  \n",
       "27                    62  \n",
       "28                     5  \n",
       "29                    62  \n",
       "30                     5  \n",
       "31                    35  \n",
       "32                     7  \n",
       "33                     3  \n",
       "34                     9  \n",
       "35                     8  \n",
       "36                     2  \n",
       "37                     7  \n",
       "38                     2  \n",
       "39                   109  \n",
       "40                    29  \n",
       "41                     2  \n",
       "42                     1  \n",
       "43                    16  \n",
       "44                     5  \n",
       "45                    10  \n",
       "46                     6  \n",
       "47                     2  \n",
       "48                   134  \n",
       "49                     4  "
      ]
     },
     "execution_count": 7,
     "metadata": {},
     "output_type": "execute_result"
    }
   ],
   "source": [
    "df"
   ]
  },
  {
   "cell_type": "code",
   "execution_count": 8,
   "metadata": {},
   "outputs": [],
   "source": [
    "df['All Complaint Types'] = df['Complaint Type'].astype(str) + ' (' + df['Sub Category'] + ')'"
   ]
  },
  {
   "cell_type": "code",
   "execution_count": 9,
   "metadata": {},
   "outputs": [],
   "source": [
    "df = df.sort_values('Number of Complaints', ascending=False)"
   ]
  },
  {
   "cell_type": "code",
   "execution_count": 10,
   "metadata": {
    "collapsed": true
   },
   "outputs": [],
   "source": [
    "df_2015 = df"
   ]
  },
  {
   "cell_type": "code",
   "execution_count": 11,
   "metadata": {},
   "outputs": [],
   "source": [
    "df_2015.drop(df[df.Year == '01/01/2016 12:00:00 AM'].index, inplace=True)"
   ]
  },
  {
   "cell_type": "code",
   "execution_count": 12,
   "metadata": {},
   "outputs": [
    {
     "name": "stdout",
     "output_type": "stream",
     "text": [
      "<class 'pandas.core.frame.DataFrame'>\n",
      "Int64Index: 25 entries, 23 to 1\n",
      "Data columns (total 5 columns):\n",
      "Complaint Type          25 non-null category\n",
      "Sub Category            25 non-null object\n",
      "Year                    25 non-null object\n",
      "Number of Complaints    25 non-null int64\n",
      "All Complaint Types     25 non-null object\n",
      "dtypes: category(1), int64(1), object(3)\n",
      "memory usage: 1.8+ KB\n"
     ]
    }
   ],
   "source": [
    "df_2015.info()"
   ]
  },
  {
   "cell_type": "code",
   "execution_count": 13,
   "metadata": {},
   "outputs": [
    {
     "data": {
      "text/html": [
       "<div>\n",
       "<style>\n",
       "    .dataframe thead tr:only-child th {\n",
       "        text-align: right;\n",
       "    }\n",
       "\n",
       "    .dataframe thead th {\n",
       "        text-align: left;\n",
       "    }\n",
       "\n",
       "    .dataframe tbody tr th {\n",
       "        vertical-align: top;\n",
       "    }\n",
       "</style>\n",
       "<table border=\"1\" class=\"dataframe\">\n",
       "  <thead>\n",
       "    <tr style=\"text-align: right;\">\n",
       "      <th></th>\n",
       "      <th>Complaint Type</th>\n",
       "      <th>Sub Category</th>\n",
       "      <th>Year</th>\n",
       "      <th>Number of Complaints</th>\n",
       "      <th>All Complaint Types</th>\n",
       "    </tr>\n",
       "  </thead>\n",
       "  <tbody>\n",
       "    <tr>\n",
       "      <th>23</th>\n",
       "      <td>Other</td>\n",
       "      <td>Concern Complaint</td>\n",
       "      <td>01/01/2015 12:00:00 AM</td>\n",
       "      <td>150</td>\n",
       "      <td>Other  (Concern Complaint)</td>\n",
       "    </tr>\n",
       "    <tr>\n",
       "      <th>14</th>\n",
       "      <td>Other</td>\n",
       "      <td>Industry</td>\n",
       "      <td>01/01/2015 12:00:00 AM</td>\n",
       "      <td>114</td>\n",
       "      <td>Other  (Industry)</td>\n",
       "    </tr>\n",
       "    <tr>\n",
       "      <th>2</th>\n",
       "      <td>Collection Practice</td>\n",
       "      <td>Complaint</td>\n",
       "      <td>01/01/2015 12:00:00 AM</td>\n",
       "      <td>73</td>\n",
       "      <td>Collection Practice (Complaint)</td>\n",
       "    </tr>\n",
       "    <tr>\n",
       "      <th>4</th>\n",
       "      <td>Consumer Purchase</td>\n",
       "      <td>Complaint</td>\n",
       "      <td>01/01/2015 12:00:00 AM</td>\n",
       "      <td>72</td>\n",
       "      <td>Consumer Purchase (Complaint)</td>\n",
       "    </tr>\n",
       "    <tr>\n",
       "      <th>6</th>\n",
       "      <td>Other</td>\n",
       "      <td>Complaint</td>\n",
       "      <td>01/01/2015 12:00:00 AM</td>\n",
       "      <td>36</td>\n",
       "      <td>Other (Complaint)</td>\n",
       "    </tr>\n",
       "    <tr>\n",
       "      <th>15</th>\n",
       "      <td>Retail Business</td>\n",
       "      <td>Industry</td>\n",
       "      <td>01/01/2015 12:00:00 AM</td>\n",
       "      <td>27</td>\n",
       "      <td>Retail Business (Industry)</td>\n",
       "    </tr>\n",
       "    <tr>\n",
       "      <th>7</th>\n",
       "      <td>Automotive Sales/Services</td>\n",
       "      <td>Industry</td>\n",
       "      <td>01/01/2015 12:00:00 AM</td>\n",
       "      <td>17</td>\n",
       "      <td>Automotive Sales/Services (Industry)</td>\n",
       "    </tr>\n",
       "    <tr>\n",
       "      <th>10</th>\n",
       "      <td>Home Repair or Renovation</td>\n",
       "      <td>Industry</td>\n",
       "      <td>01/01/2015 12:00:00 AM</td>\n",
       "      <td>17</td>\n",
       "      <td>Home Repair or Renovation (Industry)</td>\n",
       "    </tr>\n",
       "    <tr>\n",
       "      <th>18</th>\n",
       "      <td>Billing/Pricing</td>\n",
       "      <td>Concern Complaint</td>\n",
       "      <td>01/01/2015 12:00:00 AM</td>\n",
       "      <td>14</td>\n",
       "      <td>Billing/Pricing (Concern Complaint)</td>\n",
       "    </tr>\n",
       "    <tr>\n",
       "      <th>20</th>\n",
       "      <td>Failure to Fulfill Contract</td>\n",
       "      <td>Concern Complaint</td>\n",
       "      <td>01/01/2015 12:00:00 AM</td>\n",
       "      <td>12</td>\n",
       "      <td>Failure to Fulfill Contract (Concern Complaint)</td>\n",
       "    </tr>\n",
       "    <tr>\n",
       "      <th>3</th>\n",
       "      <td>Consumer Credit Reporting</td>\n",
       "      <td>Complaint</td>\n",
       "      <td>01/01/2015 12:00:00 AM</td>\n",
       "      <td>11</td>\n",
       "      <td>Consumer Credit Reporting (Complaint)</td>\n",
       "    </tr>\n",
       "    <tr>\n",
       "      <th>0</th>\n",
       "      <td>Borrowing Money</td>\n",
       "      <td>Complaint</td>\n",
       "      <td>01/01/2015 12:00:00 AM</td>\n",
       "      <td>10</td>\n",
       "      <td>Borrowing Money (Complaint)</td>\n",
       "    </tr>\n",
       "    <tr>\n",
       "      <th>21</th>\n",
       "      <td>Fruad/Deceptive Practices</td>\n",
       "      <td>Concern Complaint</td>\n",
       "      <td>01/01/2015 12:00:00 AM</td>\n",
       "      <td>9</td>\n",
       "      <td>Fruad/Deceptive Practices (Concern Complaint)</td>\n",
       "    </tr>\n",
       "    <tr>\n",
       "      <th>9</th>\n",
       "      <td>Financial Institution</td>\n",
       "      <td>Industry</td>\n",
       "      <td>01/01/2015 12:00:00 AM</td>\n",
       "      <td>9</td>\n",
       "      <td>Financial Institution (Industry)</td>\n",
       "    </tr>\n",
       "    <tr>\n",
       "      <th>24</th>\n",
       "      <td>Product Warranty</td>\n",
       "      <td>Concern Complaint</td>\n",
       "      <td>01/01/2015 12:00:00 AM</td>\n",
       "      <td>8</td>\n",
       "      <td>Product Warranty (Concern Complaint)</td>\n",
       "    </tr>\n",
       "    <tr>\n",
       "      <th>8</th>\n",
       "      <td>Distance Sales</td>\n",
       "      <td>Industry</td>\n",
       "      <td>01/01/2015 12:00:00 AM</td>\n",
       "      <td>7</td>\n",
       "      <td>Distance Sales (Industry)</td>\n",
       "    </tr>\n",
       "    <tr>\n",
       "      <th>22</th>\n",
       "      <td>Not Applicable</td>\n",
       "      <td>Concern Complaint</td>\n",
       "      <td>01/01/2015 12:00:00 AM</td>\n",
       "      <td>6</td>\n",
       "      <td>Not Applicable (Concern Complaint)</td>\n",
       "    </tr>\n",
       "    <tr>\n",
       "      <th>19</th>\n",
       "      <td>Disclosure of Information</td>\n",
       "      <td>Concern Complaint</td>\n",
       "      <td>01/01/2015 12:00:00 AM</td>\n",
       "      <td>6</td>\n",
       "      <td>Disclosure of Information (Concern Complaint)</td>\n",
       "    </tr>\n",
       "    <tr>\n",
       "      <th>11</th>\n",
       "      <td>Insurance</td>\n",
       "      <td>Industry</td>\n",
       "      <td>01/01/2015 12:00:00 AM</td>\n",
       "      <td>4</td>\n",
       "      <td>Insurance (Industry)</td>\n",
       "    </tr>\n",
       "    <tr>\n",
       "      <th>12</th>\n",
       "      <td>Internet</td>\n",
       "      <td>Industry</td>\n",
       "      <td>01/01/2015 12:00:00 AM</td>\n",
       "      <td>4</td>\n",
       "      <td>Internet (Industry)</td>\n",
       "    </tr>\n",
       "    <tr>\n",
       "      <th>13</th>\n",
       "      <td>Not Applicable</td>\n",
       "      <td>Industry</td>\n",
       "      <td>01/01/2015 12:00:00 AM</td>\n",
       "      <td>4</td>\n",
       "      <td>Not Applicable (Industry)</td>\n",
       "    </tr>\n",
       "    <tr>\n",
       "      <th>16</th>\n",
       "      <td>Travel</td>\n",
       "      <td>Industry</td>\n",
       "      <td>01/01/2015 12:00:00 AM</td>\n",
       "      <td>3</td>\n",
       "      <td>Travel (Industry)</td>\n",
       "    </tr>\n",
       "    <tr>\n",
       "      <th>5</th>\n",
       "      <td>Direct Selling</td>\n",
       "      <td>Complaint</td>\n",
       "      <td>01/01/2015 12:00:00 AM</td>\n",
       "      <td>3</td>\n",
       "      <td>Direct Selling (Complaint)</td>\n",
       "    </tr>\n",
       "    <tr>\n",
       "      <th>17</th>\n",
       "      <td>Advertising</td>\n",
       "      <td>Concern Complaint</td>\n",
       "      <td>01/01/2015 12:00:00 AM</td>\n",
       "      <td>1</td>\n",
       "      <td>Advertising (Concern Complaint)</td>\n",
       "    </tr>\n",
       "    <tr>\n",
       "      <th>1</th>\n",
       "      <td>Cemetery and Funeral Services</td>\n",
       "      <td>Complaint</td>\n",
       "      <td>01/01/2015 12:00:00 AM</td>\n",
       "      <td>1</td>\n",
       "      <td>Cemetery and Funeral Services (Complaint)</td>\n",
       "    </tr>\n",
       "  </tbody>\n",
       "</table>\n",
       "</div>"
      ],
      "text/plain": [
       "                   Complaint Type       Sub Category                    Year  \\\n",
       "23                         Other   Concern Complaint  01/01/2015 12:00:00 AM   \n",
       "14                         Other            Industry  01/01/2015 12:00:00 AM   \n",
       "2             Collection Practice          Complaint  01/01/2015 12:00:00 AM   \n",
       "4               Consumer Purchase          Complaint  01/01/2015 12:00:00 AM   \n",
       "6                           Other          Complaint  01/01/2015 12:00:00 AM   \n",
       "15                Retail Business           Industry  01/01/2015 12:00:00 AM   \n",
       "7       Automotive Sales/Services           Industry  01/01/2015 12:00:00 AM   \n",
       "10      Home Repair or Renovation           Industry  01/01/2015 12:00:00 AM   \n",
       "18                Billing/Pricing  Concern Complaint  01/01/2015 12:00:00 AM   \n",
       "20    Failure to Fulfill Contract  Concern Complaint  01/01/2015 12:00:00 AM   \n",
       "3       Consumer Credit Reporting          Complaint  01/01/2015 12:00:00 AM   \n",
       "0                 Borrowing Money          Complaint  01/01/2015 12:00:00 AM   \n",
       "21      Fruad/Deceptive Practices  Concern Complaint  01/01/2015 12:00:00 AM   \n",
       "9           Financial Institution           Industry  01/01/2015 12:00:00 AM   \n",
       "24               Product Warranty  Concern Complaint  01/01/2015 12:00:00 AM   \n",
       "8                  Distance Sales           Industry  01/01/2015 12:00:00 AM   \n",
       "22                 Not Applicable  Concern Complaint  01/01/2015 12:00:00 AM   \n",
       "19      Disclosure of Information  Concern Complaint  01/01/2015 12:00:00 AM   \n",
       "11                      Insurance           Industry  01/01/2015 12:00:00 AM   \n",
       "12                       Internet           Industry  01/01/2015 12:00:00 AM   \n",
       "13                 Not Applicable           Industry  01/01/2015 12:00:00 AM   \n",
       "16                         Travel           Industry  01/01/2015 12:00:00 AM   \n",
       "5                  Direct Selling          Complaint  01/01/2015 12:00:00 AM   \n",
       "17                    Advertising  Concern Complaint  01/01/2015 12:00:00 AM   \n",
       "1   Cemetery and Funeral Services          Complaint  01/01/2015 12:00:00 AM   \n",
       "\n",
       "    Number of Complaints                              All Complaint Types  \n",
       "23                   150                       Other  (Concern Complaint)  \n",
       "14                   114                                Other  (Industry)  \n",
       "2                     73                  Collection Practice (Complaint)  \n",
       "4                     72                    Consumer Purchase (Complaint)  \n",
       "6                     36                                Other (Complaint)  \n",
       "15                    27                       Retail Business (Industry)  \n",
       "7                     17             Automotive Sales/Services (Industry)  \n",
       "10                    17             Home Repair or Renovation (Industry)  \n",
       "18                    14              Billing/Pricing (Concern Complaint)  \n",
       "20                    12  Failure to Fulfill Contract (Concern Complaint)  \n",
       "3                     11            Consumer Credit Reporting (Complaint)  \n",
       "0                     10                      Borrowing Money (Complaint)  \n",
       "21                     9    Fruad/Deceptive Practices (Concern Complaint)  \n",
       "9                      9                 Financial Institution (Industry)  \n",
       "24                     8             Product Warranty (Concern Complaint)  \n",
       "8                      7                        Distance Sales (Industry)  \n",
       "22                     6               Not Applicable (Concern Complaint)  \n",
       "19                     6    Disclosure of Information (Concern Complaint)  \n",
       "11                     4                             Insurance (Industry)  \n",
       "12                     4                              Internet (Industry)  \n",
       "13                     4                        Not Applicable (Industry)  \n",
       "16                     3                                Travel (Industry)  \n",
       "5                      3                       Direct Selling (Complaint)  \n",
       "17                     1                  Advertising (Concern Complaint)  \n",
       "1                      1        Cemetery and Funeral Services (Complaint)  "
      ]
     },
     "execution_count": 13,
     "metadata": {},
     "output_type": "execute_result"
    }
   ],
   "source": [
    "df_2015"
   ]
  },
  {
   "cell_type": "code",
   "execution_count": 14,
   "metadata": {},
   "outputs": [
    {
     "data": {
      "text/plain": [
       "<matplotlib.figure.Figure at 0x7ff970227828>"
      ]
     },
     "execution_count": 14,
     "metadata": {},
     "output_type": "execute_result"
    },
    {
     "data": {
      "text/plain": [
       "<matplotlib.figure.Figure at 0x7ff970227828>"
      ]
     },
     "metadata": {},
     "output_type": "display_data"
    }
   ],
   "source": [
    "plt.figure()"
   ]
  },
  {
   "cell_type": "code",
   "execution_count": 15,
   "metadata": {},
   "outputs": [],
   "source": [
    "plt.rcParams['figure.figsize']=(10,10)"
   ]
  },
  {
   "cell_type": "code",
   "execution_count": 16,
   "metadata": {
    "scrolled": true
   },
   "outputs": [
    {
     "data": {
      "text/plain": [
       "Text(0.5,1,'Consumer Protection Complaints Types and Frequency in 2015, Nova Scotia')"
      ]
     },
     "execution_count": 16,
     "metadata": {},
     "output_type": "execute_result"
    },
    {
     "data": {
      "image/png": "[encoded data removed]",
      "text/plain": [
       "<matplotlib.figure.Figure at 0x7ff9704ee898>"
      ]
     },
     "metadata": {},
     "output_type": "display_data"
    }
   ],
   "source": [
    "ax = sns.barplot(x=\"Number of Complaints\", y=\"All Complaint Types\", palette=\"Blues_d\", ci=None, data=df_2015)\n",
    "ax.set_title('Consumer Protection Complaints Types and Frequency in 2015, Nova Scotia')"
   ]
  },
  {
   "cell_type": "code",
   "execution_count": 17,
   "metadata": {},
   "outputs": [
    {
     "name": "stdout",
     "output_type": "stream",
     "text": [
      "<class 'pandas.core.frame.DataFrame'>\n",
      "Int64Index: 25 entries, 23 to 1\n",
      "Data columns (total 5 columns):\n",
      "Complaint Type          25 non-null category\n",
      "Sub Category            25 non-null object\n",
      "Year                    25 non-null object\n",
      "Number of Complaints    25 non-null int64\n",
      "All Complaint Types     25 non-null object\n",
      "dtypes: category(1), int64(1), object(3)\n",
      "memory usage: 2.4+ KB\n"
     ]
    }
   ],
   "source": [
    "df_2015.info()"
   ]
  },
  {
   "cell_type": "code",
   "execution_count": 18,
   "metadata": {
    "collapsed": true
   },
   "outputs": [],
   "source": [
    "plt.show()"
   ]
  },
  {
   "cell_type": "markdown",
   "metadata": {},
   "source": [
    "### Plot for 2016 data"
   ]
  },
  {
   "cell_type": "code",
   "execution_count": 19,
   "metadata": {
    "collapsed": true
   },
   "outputs": [],
   "source": [
    "df = pd.read_csv(\"https://raw.githubusercontent.com/tarjin/NS_Open_Data/master/Consumer_Protection_Complaints_Types_and_Frequency.csv\")"
   ]
  },
  {
   "cell_type": "code",
   "execution_count": 20,
   "metadata": {
    "collapsed": true
   },
   "outputs": [],
   "source": [
    "df['All Complaint Types'] = df['Complaint Type'].astype(str) + ' (' + df['Sub Category'] + ')'"
   ]
  },
  {
   "cell_type": "code",
   "execution_count": 21,
   "metadata": {
    "collapsed": true
   },
   "outputs": [],
   "source": [
    "df = df.sort_values('Number of Complaints', ascending=False)"
   ]
  },
  {
   "cell_type": "code",
   "execution_count": 22,
   "metadata": {
    "collapsed": true
   },
   "outputs": [],
   "source": [
    "df_2016 = df"
   ]
  },
  {
   "cell_type": "code",
   "execution_count": 23,
   "metadata": {},
   "outputs": [],
   "source": [
    "df_2016.drop(df[df.Year == '01/01/2015 12:00:00 AM'].index, inplace=True)"
   ]
  },
  {
   "cell_type": "code",
   "execution_count": 24,
   "metadata": {},
   "outputs": [
    {
     "name": "stdout",
     "output_type": "stream",
     "text": [
      "<class 'pandas.core.frame.DataFrame'>\n",
      "Int64Index: 25 entries, 48 to 42\n",
      "Data columns (total 5 columns):\n",
      "Complaint Type          25 non-null object\n",
      "Sub Category            25 non-null object\n",
      "Year                    25 non-null object\n",
      "Number of Complaints    25 non-null int64\n",
      "All Complaint Types     25 non-null object\n",
      "dtypes: int64(1), object(4)\n",
      "memory usage: 1.2+ KB\n"
     ]
    }
   ],
   "source": [
    "df_2016.info()"
   ]
  },
  {
   "cell_type": "code",
   "execution_count": 25,
   "metadata": {},
   "outputs": [
    {
     "data": {
      "text/plain": [
       "<matplotlib.figure.Figure at 0x7ff9701a3ac8>"
      ]
     },
     "execution_count": 25,
     "metadata": {},
     "output_type": "execute_result"
    },
    {
     "data": {
      "text/plain": [
       "<matplotlib.figure.Figure at 0x7ff9701a3ac8>"
      ]
     },
     "metadata": {},
     "output_type": "display_data"
    }
   ],
   "source": [
    "plt.figure()"
   ]
  },
  {
   "cell_type": "code",
   "execution_count": 26,
   "metadata": {
    "collapsed": true
   },
   "outputs": [],
   "source": [
    "plt.rcParams['figure.figsize']=(10,10)"
   ]
  },
  {
   "cell_type": "code",
   "execution_count": 27,
   "metadata": {},
   "outputs": [
    {
     "data": {
      "text/plain": [
       "Text(0.5,1,'Consumer Protection Complaints Types and Frequency in 2016, Nova Scotia')"
      ]
     },
     "execution_count": 27,
     "metadata": {},
     "output_type": "execute_result"
    },
    {
     "data": {
      "image/png": "[encoded data removed]",
      "text/plain": [
       "<matplotlib.figure.Figure at 0x7ff970259e80>"
      ]
     },
     "metadata": {},
     "output_type": "display_data"
    }
   ],
   "source": [
    "ax = sns.barplot(x=\"Number of Complaints\", y=\"All Complaint Types\", palette=\"Blues_d\", ci=None, data=df_2016)\n",
    "ax.set_title('Consumer Protection Complaints Types and Frequency in 2016, Nova Scotia')"
   ]
  },
  {
   "cell_type": "code",
   "execution_count": 28,
   "metadata": {},
   "outputs": [
    {
     "name": "stdout",
     "output_type": "stream",
     "text": [
      "<class 'pandas.core.frame.DataFrame'>\n",
      "Int64Index: 25 entries, 48 to 42\n",
      "Data columns (total 5 columns):\n",
      "Complaint Type          25 non-null object\n",
      "Sub Category            25 non-null object\n",
      "Year                    25 non-null object\n",
      "Number of Complaints    25 non-null int64\n",
      "All Complaint Types     25 non-null object\n",
      "dtypes: int64(1), object(4)\n",
      "memory usage: 1.8+ KB\n"
     ]
    }
   ],
   "source": [
    "df_2016.info()"
   ]
  },
  {
   "cell_type": "markdown",
   "metadata": {},
   "source": [
    "### Plot of 2015 and 2016 on the same chart -- tbd"
   ]
  },
  {
   "cell_type": "markdown",
   "metadata": {},
   "source": [
    "# Ontario"
   ]
  },
  {
   "cell_type": "code",
   "execution_count": 29,
   "metadata": {
    "collapsed": true
   },
   "outputs": [],
   "source": [
    "plt.rcParams['figure.figsize']=(10,10)"
   ]
  }
 ],
 "metadata": {
  "kernelspec": {
   "display_name": "Python 3.6",
   "language": "python",
   "name": "python36"
  },
  "language_info": {
   "codemirror_mode": {
    "name": "ipython",
    "version": 3
   },
   "file_extension": ".py",
   "mimetype": "text/x-python",
   "name": "python",
   "nbconvert_exporter": "python",
   "pygments_lexer": "ipython3",
   "version": "3.6.2"
  }
 },
 "nbformat": 4,
 "nbformat_minor": 2
}
