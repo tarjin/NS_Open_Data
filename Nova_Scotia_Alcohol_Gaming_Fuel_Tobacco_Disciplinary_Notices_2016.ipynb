{
 "cells": [
  {
   "cell_type": "markdown",
   "metadata": {
    "collapsed": true
   },
   "source": [
    "# Storytelling with Open Data and Python"
   ]
  },
  {
   "cell_type": "code",
   "execution_count": 1,
   "metadata": {},
   "outputs": [
    {
     "name": "stdout",
     "output_type": "stream",
     "text": [
      "3.6.2 |Anaconda custom (64-bit)| (default, Jul 20 2017, 13:51:32) \n",
      "[GCC 4.4.7 20120313 (Red Hat 4.4.7-1)]\n"
     ]
    }
   ],
   "source": [
    "import pandas as pd\n",
    "import numpy as np\n",
    "import matplotlib.pyplot as plt\n",
    "import seaborn as sns\n",
    "import sys\n",
    "\n",
    "print(sys.version)"
   ]
  },
  {
   "cell_type": "code",
   "execution_count": 2,
   "metadata": {},
   "outputs": [
    {
     "name": "stdout",
     "output_type": "stream",
     "text": [
      "Requirement already satisfied: sodapy in /home/nbcommon/anaconda3_501/lib/python3.6/site-packages\r\n",
      "Requirement already satisfied: future==0.16.0 in /home/nbcommon/anaconda3_501/lib/python3.6/site-packages (from sodapy)\r\n",
      "Requirement already satisfied: requests==2.12.1 in /home/nbcommon/anaconda3_501/lib/python3.6/site-packages (from sodapy)\r\n"
     ]
    }
   ],
   "source": [
    "!pip install sodapy"
   ]
  },
  {
   "cell_type": "code",
   "execution_count": 3,
   "metadata": {
    "collapsed": true
   },
   "outputs": [],
   "source": [
    "from sodapy import Socrata"
   ]
  },
  {
   "cell_type": "code",
   "execution_count": 4,
   "metadata": {},
   "outputs": [
    {
     "name": "stderr",
     "output_type": "stream",
     "text": [
      "WARNING:root:Requests made without an app_token will be subject to strict throttling limits.\n"
     ]
    }
   ],
   "source": [
    "# Unauthenticated client only works with public data sets. Note 'None'\n",
    "# in place of application token, and no username or password:\n",
    "client = Socrata(\"data.novascotia.ca\", None)"
   ]
  },
  {
   "cell_type": "code",
   "execution_count": 5,
   "metadata": {
    "collapsed": true
   },
   "outputs": [],
   "source": [
    "# First 10000 results, returned as JSON from API / converted to Python list of\n",
    "# dictionaries by sodapy.\n",
    "results = client.get(\"u742-8tme\", limit=10000)"
   ]
  },
  {
   "cell_type": "code",
   "execution_count": 6,
   "metadata": {
    "collapsed": true
   },
   "outputs": [],
   "source": [
    "# Convert to pandas DataFrame\n",
    "df = pd.DataFrame.from_records(results)"
   ]
  },
  {
   "cell_type": "code",
   "execution_count": 7,
   "metadata": {},
   "outputs": [
    {
     "data": {
      "text/html": [
       "<div>\n",
       "<style>\n",
       "    .dataframe thead tr:only-child th {\n",
       "        text-align: right;\n",
       "    }\n",
       "\n",
       "    .dataframe thead th {\n",
       "        text-align: left;\n",
       "    }\n",
       "\n",
       "    .dataframe tbody tr th {\n",
       "        vertical-align: top;\n",
       "    }\n",
       "</style>\n",
       "<table border=\"1\" class=\"dataframe\">\n",
       "  <thead>\n",
       "    <tr style=\"text-align: right;\">\n",
       "      <th></th>\n",
       "      <th>date</th>\n",
       "      <th>establishment_name</th>\n",
       "      <th>location</th>\n",
       "      <th>suspension_length_days</th>\n",
       "    </tr>\n",
       "  </thead>\n",
       "  <tbody>\n",
       "    <tr>\n",
       "      <th>0</th>\n",
       "      <td>2015-06-05T00:00:00.000</td>\n",
       "      <td>Teazer's Dining Room &amp; Lounge</td>\n",
       "      <td>Amherst</td>\n",
       "      <td>2</td>\n",
       "    </tr>\n",
       "    <tr>\n",
       "      <th>1</th>\n",
       "      <td>2015-03-21T00:00:00.000</td>\n",
       "      <td>Dooly's Dining Room &amp; Lounge</td>\n",
       "      <td>Amherst</td>\n",
       "      <td>1</td>\n",
       "    </tr>\n",
       "    <tr>\n",
       "      <th>2</th>\n",
       "      <td>2015-08-21T00:00:00.000</td>\n",
       "      <td>Carriage House Lounge &amp; China King Family Rest...</td>\n",
       "      <td>Port Hawkesbury</td>\n",
       "      <td>2</td>\n",
       "    </tr>\n",
       "    <tr>\n",
       "      <th>3</th>\n",
       "      <td>2014-05-11T00:00:00.000</td>\n",
       "      <td>Royal Canadian Legion Branch #147</td>\n",
       "      <td>Upper Musquodoboit</td>\n",
       "      <td>7</td>\n",
       "    </tr>\n",
       "    <tr>\n",
       "      <th>4</th>\n",
       "      <td>2014-07-11T00:00:00.000</td>\n",
       "      <td>IndianBrook Advantures Inc</td>\n",
       "      <td>Englishtown</td>\n",
       "      <td>2</td>\n",
       "    </tr>\n",
       "  </tbody>\n",
       "</table>\n",
       "</div>"
      ],
      "text/plain": [
       "                      date                                 establishment_name  \\\n",
       "0  2015-06-05T00:00:00.000                      Teazer's Dining Room & Lounge   \n",
       "1  2015-03-21T00:00:00.000                       Dooly's Dining Room & Lounge   \n",
       "2  2015-08-21T00:00:00.000  Carriage House Lounge & China King Family Rest...   \n",
       "3  2014-05-11T00:00:00.000                  Royal Canadian Legion Branch #147   \n",
       "4  2014-07-11T00:00:00.000                         IndianBrook Advantures Inc   \n",
       "\n",
       "             location suspension_length_days  \n",
       "0             Amherst                      2  \n",
       "1             Amherst                      1  \n",
       "2     Port Hawkesbury                      2  \n",
       "3  Upper Musquodoboit                      7  \n",
       "4         Englishtown                      2  "
      ]
     },
     "execution_count": 7,
     "metadata": {},
     "output_type": "execute_result"
    }
   ],
   "source": [
    "df.head()"
   ]
  },
  {
   "cell_type": "code",
   "execution_count": 8,
   "metadata": {},
   "outputs": [
    {
     "data": {
      "text/html": [
       "<div>\n",
       "<style>\n",
       "    .dataframe thead tr:only-child th {\n",
       "        text-align: right;\n",
       "    }\n",
       "\n",
       "    .dataframe thead th {\n",
       "        text-align: left;\n",
       "    }\n",
       "\n",
       "    .dataframe tbody tr th {\n",
       "        vertical-align: top;\n",
       "    }\n",
       "</style>\n",
       "<table border=\"1\" class=\"dataframe\">\n",
       "  <thead>\n",
       "    <tr style=\"text-align: right;\">\n",
       "      <th></th>\n",
       "      <th>date</th>\n",
       "      <th>establishment_name</th>\n",
       "      <th>location</th>\n",
       "      <th>suspension_length_days</th>\n",
       "    </tr>\n",
       "  </thead>\n",
       "  <tbody>\n",
       "    <tr>\n",
       "      <th>31</th>\n",
       "      <td>2016-11-30T00:00:00.000</td>\n",
       "      <td>Teazer's Dining Room &amp; Lounge</td>\n",
       "      <td>Amherst</td>\n",
       "      <td>2</td>\n",
       "    </tr>\n",
       "    <tr>\n",
       "      <th>32</th>\n",
       "      <td>2012-02-11T00:00:00.000</td>\n",
       "      <td>Thistle Dining Room &amp; Lounge</td>\n",
       "      <td>New Glasgow</td>\n",
       "      <td>1</td>\n",
       "    </tr>\n",
       "    <tr>\n",
       "      <th>33</th>\n",
       "      <td>2017-04-06T00:00:00.000</td>\n",
       "      <td>Best Kept Secret Dining Room and Lounge</td>\n",
       "      <td>Dartmouth</td>\n",
       "      <td>2</td>\n",
       "    </tr>\n",
       "    <tr>\n",
       "      <th>34</th>\n",
       "      <td>2017-01-21T00:00:00.000</td>\n",
       "      <td>Glasgow Pub Dining Room and Lounge</td>\n",
       "      <td>New Glasgow</td>\n",
       "      <td>1</td>\n",
       "    </tr>\n",
       "    <tr>\n",
       "      <th>35</th>\n",
       "      <td>2017-10-30T00:00:00.000</td>\n",
       "      <td>Acadia University</td>\n",
       "      <td>Wolfville</td>\n",
       "      <td>2</td>\n",
       "    </tr>\n",
       "  </tbody>\n",
       "</table>\n",
       "</div>"
      ],
      "text/plain": [
       "                       date                       establishment_name  \\\n",
       "31  2016-11-30T00:00:00.000            Teazer's Dining Room & Lounge   \n",
       "32  2012-02-11T00:00:00.000             Thistle Dining Room & Lounge   \n",
       "33  2017-04-06T00:00:00.000  Best Kept Secret Dining Room and Lounge   \n",
       "34  2017-01-21T00:00:00.000       Glasgow Pub Dining Room and Lounge   \n",
       "35  2017-10-30T00:00:00.000                        Acadia University   \n",
       "\n",
       "       location suspension_length_days  \n",
       "31      Amherst                      2  \n",
       "32  New Glasgow                      1  \n",
       "33    Dartmouth                      2  \n",
       "34  New Glasgow                      1  \n",
       "35    Wolfville                      2  "
      ]
     },
     "execution_count": 8,
     "metadata": {},
     "output_type": "execute_result"
    }
   ],
   "source": [
    "df.tail()"
   ]
  },
  {
   "cell_type": "code",
   "execution_count": 9,
   "metadata": {},
   "outputs": [
    {
     "data": {
      "text/html": [
       "<div>\n",
       "<style>\n",
       "    .dataframe thead tr:only-child th {\n",
       "        text-align: right;\n",
       "    }\n",
       "\n",
       "    .dataframe thead th {\n",
       "        text-align: left;\n",
       "    }\n",
       "\n",
       "    .dataframe tbody tr th {\n",
       "        vertical-align: top;\n",
       "    }\n",
       "</style>\n",
       "<table border=\"1\" class=\"dataframe\">\n",
       "  <thead>\n",
       "    <tr style=\"text-align: right;\">\n",
       "      <th></th>\n",
       "      <th>date</th>\n",
       "      <th>establishment_name</th>\n",
       "      <th>location</th>\n",
       "      <th>suspension_length_days</th>\n",
       "    </tr>\n",
       "  </thead>\n",
       "  <tbody>\n",
       "    <tr>\n",
       "      <th>0</th>\n",
       "      <td>2015-06-05T00:00:00.000</td>\n",
       "      <td>Teazer's Dining Room &amp; Lounge</td>\n",
       "      <td>Amherst</td>\n",
       "      <td>2</td>\n",
       "    </tr>\n",
       "    <tr>\n",
       "      <th>1</th>\n",
       "      <td>2015-03-21T00:00:00.000</td>\n",
       "      <td>Dooly's Dining Room &amp; Lounge</td>\n",
       "      <td>Amherst</td>\n",
       "      <td>1</td>\n",
       "    </tr>\n",
       "    <tr>\n",
       "      <th>2</th>\n",
       "      <td>2015-08-21T00:00:00.000</td>\n",
       "      <td>Carriage House Lounge &amp; China King Family Rest...</td>\n",
       "      <td>Port Hawkesbury</td>\n",
       "      <td>2</td>\n",
       "    </tr>\n",
       "    <tr>\n",
       "      <th>3</th>\n",
       "      <td>2014-05-11T00:00:00.000</td>\n",
       "      <td>Royal Canadian Legion Branch #147</td>\n",
       "      <td>Upper Musquodoboit</td>\n",
       "      <td>7</td>\n",
       "    </tr>\n",
       "    <tr>\n",
       "      <th>4</th>\n",
       "      <td>2014-07-11T00:00:00.000</td>\n",
       "      <td>IndianBrook Advantures Inc</td>\n",
       "      <td>Englishtown</td>\n",
       "      <td>2</td>\n",
       "    </tr>\n",
       "    <tr>\n",
       "      <th>5</th>\n",
       "      <td>2014-01-27T00:00:00.000</td>\n",
       "      <td>Joey's Convenience</td>\n",
       "      <td>Beaverbank</td>\n",
       "      <td>90</td>\n",
       "    </tr>\n",
       "    <tr>\n",
       "      <th>6</th>\n",
       "      <td>2013-12-24T00:00:00.000</td>\n",
       "      <td>Durty Nelly's Irish Pub</td>\n",
       "      <td>Halifax</td>\n",
       "      <td>2</td>\n",
       "    </tr>\n",
       "    <tr>\n",
       "      <th>7</th>\n",
       "      <td>2013-06-10T00:00:00.000</td>\n",
       "      <td>Lower Deck Neighborhood Bar&amp;Grill</td>\n",
       "      <td>Halifax</td>\n",
       "      <td>2</td>\n",
       "    </tr>\n",
       "    <tr>\n",
       "      <th>8</th>\n",
       "      <td>2013-05-30T00:00:00.000</td>\n",
       "      <td>Governor's Bar &amp; Restaurant and Bunker's Peanu...</td>\n",
       "      <td>Sydney</td>\n",
       "      <td>2</td>\n",
       "    </tr>\n",
       "    <tr>\n",
       "      <th>9</th>\n",
       "      <td>2013-02-01T00:00:00.000</td>\n",
       "      <td>Sam's Place Dining Room and Lounge</td>\n",
       "      <td>Dartmouth</td>\n",
       "      <td>30</td>\n",
       "    </tr>\n",
       "    <tr>\n",
       "      <th>10</th>\n",
       "      <td>2013-01-08T00:00:00.000</td>\n",
       "      <td>Chuggles Dining Room and Lounge</td>\n",
       "      <td>Antigonish</td>\n",
       "      <td>1</td>\n",
       "    </tr>\n",
       "    <tr>\n",
       "      <th>11</th>\n",
       "      <td>2013-01-11T00:00:00.000</td>\n",
       "      <td>Dalhousie University - Grawood Lounge</td>\n",
       "      <td>Halifax</td>\n",
       "      <td>2</td>\n",
       "    </tr>\n",
       "    <tr>\n",
       "      <th>12</th>\n",
       "      <td>2013-01-05T00:00:00.000</td>\n",
       "      <td>Sunset Dining Room and Lounge</td>\n",
       "      <td>Digby</td>\n",
       "      <td>1</td>\n",
       "    </tr>\n",
       "    <tr>\n",
       "      <th>13</th>\n",
       "      <td>2012-12-21T00:00:00.000</td>\n",
       "      <td>Maxwell's Plum Dining Room &amp; Lounge</td>\n",
       "      <td>Halifax</td>\n",
       "      <td>3</td>\n",
       "    </tr>\n",
       "    <tr>\n",
       "      <th>14</th>\n",
       "      <td>2012-11-17T00:00:00.000</td>\n",
       "      <td>Fundy Dining Room and Club 98 Lounge</td>\n",
       "      <td>Digby</td>\n",
       "      <td>2</td>\n",
       "    </tr>\n",
       "    <tr>\n",
       "      <th>15</th>\n",
       "      <td>2012-11-11T00:00:00.000</td>\n",
       "      <td>Halifax Metro Centre</td>\n",
       "      <td>Halifax</td>\n",
       "      <td>1</td>\n",
       "    </tr>\n",
       "    <tr>\n",
       "      <th>16</th>\n",
       "      <td>2012-10-04T00:00:00.000</td>\n",
       "      <td>Halifax Forum</td>\n",
       "      <td>Halifax</td>\n",
       "      <td>1</td>\n",
       "    </tr>\n",
       "    <tr>\n",
       "      <th>17</th>\n",
       "      <td>2012-10-12T00:00:00.000</td>\n",
       "      <td>Highland Mermaid Dining Room and the Crown and...</td>\n",
       "      <td>Sydney</td>\n",
       "      <td>2</td>\n",
       "    </tr>\n",
       "    <tr>\n",
       "      <th>18</th>\n",
       "      <td>2012-10-05T00:00:00.000</td>\n",
       "      <td>Pacifico Bar &amp; Grill</td>\n",
       "      <td>Halifax</td>\n",
       "      <td>2</td>\n",
       "    </tr>\n",
       "    <tr>\n",
       "      <th>19</th>\n",
       "      <td>2012-09-05T00:00:00.000</td>\n",
       "      <td>Dave Doolittle's Tap Room &amp; Grill</td>\n",
       "      <td>Dartmouth</td>\n",
       "      <td>2</td>\n",
       "    </tr>\n",
       "    <tr>\n",
       "      <th>20</th>\n",
       "      <td>2012-08-03T00:00:00.000</td>\n",
       "      <td>Durty Nelly's Irish Pub</td>\n",
       "      <td>Halifax</td>\n",
       "      <td>1</td>\n",
       "    </tr>\n",
       "    <tr>\n",
       "      <th>21</th>\n",
       "      <td>2012-09-07T00:00:00.000</td>\n",
       "      <td>St.Francis Xavier University</td>\n",
       "      <td>Antigonish</td>\n",
       "      <td>2</td>\n",
       "    </tr>\n",
       "    <tr>\n",
       "      <th>22</th>\n",
       "      <td>2012-06-27T00:00:00.000</td>\n",
       "      <td>Roccos Restaurant &amp; Reillys Lounge</td>\n",
       "      <td>Dartmouth</td>\n",
       "      <td>4</td>\n",
       "    </tr>\n",
       "    <tr>\n",
       "      <th>23</th>\n",
       "      <td>2012-06-03T00:00:00.000</td>\n",
       "      <td>Tops'l Dining Room &amp; Lounge &amp; Topsl's Little V...</td>\n",
       "      <td>Bridgewater</td>\n",
       "      <td>7</td>\n",
       "    </tr>\n",
       "    <tr>\n",
       "      <th>24</th>\n",
       "      <td>2012-06-01T00:00:00.000</td>\n",
       "      <td>Chatterbox Cafe</td>\n",
       "      <td>Pugwash</td>\n",
       "      <td>1</td>\n",
       "    </tr>\n",
       "    <tr>\n",
       "      <th>25</th>\n",
       "      <td>2012-04-19T00:00:00.000</td>\n",
       "      <td>Royal Canadian Legion #128</td>\n",
       "      <td>Whitney Pier</td>\n",
       "      <td>2</td>\n",
       "    </tr>\n",
       "    <tr>\n",
       "      <th>26</th>\n",
       "      <td>2012-03-16T00:00:00.000</td>\n",
       "      <td>Plaza Pizza Dining Room &amp; Lounge</td>\n",
       "      <td>Halifax</td>\n",
       "      <td>2</td>\n",
       "    </tr>\n",
       "    <tr>\n",
       "      <th>27</th>\n",
       "      <td>2012-02-25T00:00:00.000</td>\n",
       "      <td>Papa's Pasta &amp; Steakhouse and District 34 Bar</td>\n",
       "      <td>Barrington Passage</td>\n",
       "      <td>1</td>\n",
       "    </tr>\n",
       "    <tr>\n",
       "      <th>28</th>\n",
       "      <td>2012-01-05T00:00:00.000</td>\n",
       "      <td>The Pogue Fado</td>\n",
       "      <td>Halifax</td>\n",
       "      <td>3</td>\n",
       "    </tr>\n",
       "    <tr>\n",
       "      <th>29</th>\n",
       "      <td>2016-01-08T00:00:00.000</td>\n",
       "      <td>Kings Corner Bar and Grille</td>\n",
       "      <td>Bridgewater</td>\n",
       "      <td>2</td>\n",
       "    </tr>\n",
       "    <tr>\n",
       "      <th>30</th>\n",
       "      <td>2016-10-20T00:00:00.000</td>\n",
       "      <td>Aly Kat Dining Room and Lounge</td>\n",
       "      <td>Lockeport</td>\n",
       "      <td>2</td>\n",
       "    </tr>\n",
       "    <tr>\n",
       "      <th>31</th>\n",
       "      <td>2016-11-30T00:00:00.000</td>\n",
       "      <td>Teazer's Dining Room &amp; Lounge</td>\n",
       "      <td>Amherst</td>\n",
       "      <td>2</td>\n",
       "    </tr>\n",
       "    <tr>\n",
       "      <th>32</th>\n",
       "      <td>2012-02-11T00:00:00.000</td>\n",
       "      <td>Thistle Dining Room &amp; Lounge</td>\n",
       "      <td>New Glasgow</td>\n",
       "      <td>1</td>\n",
       "    </tr>\n",
       "    <tr>\n",
       "      <th>33</th>\n",
       "      <td>2017-04-06T00:00:00.000</td>\n",
       "      <td>Best Kept Secret Dining Room and Lounge</td>\n",
       "      <td>Dartmouth</td>\n",
       "      <td>2</td>\n",
       "    </tr>\n",
       "    <tr>\n",
       "      <th>34</th>\n",
       "      <td>2017-01-21T00:00:00.000</td>\n",
       "      <td>Glasgow Pub Dining Room and Lounge</td>\n",
       "      <td>New Glasgow</td>\n",
       "      <td>1</td>\n",
       "    </tr>\n",
       "    <tr>\n",
       "      <th>35</th>\n",
       "      <td>2017-10-30T00:00:00.000</td>\n",
       "      <td>Acadia University</td>\n",
       "      <td>Wolfville</td>\n",
       "      <td>2</td>\n",
       "    </tr>\n",
       "  </tbody>\n",
       "</table>\n",
       "</div>"
      ],
      "text/plain": [
       "                       date  \\\n",
       "0   2015-06-05T00:00:00.000   \n",
       "1   2015-03-21T00:00:00.000   \n",
       "2   2015-08-21T00:00:00.000   \n",
       "3   2014-05-11T00:00:00.000   \n",
       "4   2014-07-11T00:00:00.000   \n",
       "5   2014-01-27T00:00:00.000   \n",
       "6   2013-12-24T00:00:00.000   \n",
       "7   2013-06-10T00:00:00.000   \n",
       "8   2013-05-30T00:00:00.000   \n",
       "9   2013-02-01T00:00:00.000   \n",
       "10  2013-01-08T00:00:00.000   \n",
       "11  2013-01-11T00:00:00.000   \n",
       "12  2013-01-05T00:00:00.000   \n",
       "13  2012-12-21T00:00:00.000   \n",
       "14  2012-11-17T00:00:00.000   \n",
       "15  2012-11-11T00:00:00.000   \n",
       "16  2012-10-04T00:00:00.000   \n",
       "17  2012-10-12T00:00:00.000   \n",
       "18  2012-10-05T00:00:00.000   \n",
       "19  2012-09-05T00:00:00.000   \n",
       "20  2012-08-03T00:00:00.000   \n",
       "21  2012-09-07T00:00:00.000   \n",
       "22  2012-06-27T00:00:00.000   \n",
       "23  2012-06-03T00:00:00.000   \n",
       "24  2012-06-01T00:00:00.000   \n",
       "25  2012-04-19T00:00:00.000   \n",
       "26  2012-03-16T00:00:00.000   \n",
       "27  2012-02-25T00:00:00.000   \n",
       "28  2012-01-05T00:00:00.000   \n",
       "29  2016-01-08T00:00:00.000   \n",
       "30  2016-10-20T00:00:00.000   \n",
       "31  2016-11-30T00:00:00.000   \n",
       "32  2012-02-11T00:00:00.000   \n",
       "33  2017-04-06T00:00:00.000   \n",
       "34  2017-01-21T00:00:00.000   \n",
       "35  2017-10-30T00:00:00.000   \n",
       "\n",
       "                                   establishment_name            location  \\\n",
       "0                       Teazer's Dining Room & Lounge             Amherst   \n",
       "1                        Dooly's Dining Room & Lounge             Amherst   \n",
       "2   Carriage House Lounge & China King Family Rest...     Port Hawkesbury   \n",
       "3                   Royal Canadian Legion Branch #147  Upper Musquodoboit   \n",
       "4                          IndianBrook Advantures Inc         Englishtown   \n",
       "5                                  Joey's Convenience          Beaverbank   \n",
       "6                             Durty Nelly's Irish Pub             Halifax   \n",
       "7                   Lower Deck Neighborhood Bar&Grill             Halifax   \n",
       "8   Governor's Bar & Restaurant and Bunker's Peanu...              Sydney   \n",
       "9                  Sam's Place Dining Room and Lounge           Dartmouth   \n",
       "10                    Chuggles Dining Room and Lounge          Antigonish   \n",
       "11              Dalhousie University - Grawood Lounge             Halifax   \n",
       "12                      Sunset Dining Room and Lounge               Digby   \n",
       "13                Maxwell's Plum Dining Room & Lounge             Halifax   \n",
       "14               Fundy Dining Room and Club 98 Lounge               Digby   \n",
       "15                               Halifax Metro Centre             Halifax   \n",
       "16                                      Halifax Forum             Halifax   \n",
       "17  Highland Mermaid Dining Room and the Crown and...              Sydney   \n",
       "18                               Pacifico Bar & Grill             Halifax   \n",
       "19                  Dave Doolittle's Tap Room & Grill           Dartmouth   \n",
       "20                            Durty Nelly's Irish Pub             Halifax   \n",
       "21                       St.Francis Xavier University          Antigonish   \n",
       "22                 Roccos Restaurant & Reillys Lounge           Dartmouth   \n",
       "23  Tops'l Dining Room & Lounge & Topsl's Little V...         Bridgewater   \n",
       "24                                    Chatterbox Cafe             Pugwash   \n",
       "25                         Royal Canadian Legion #128        Whitney Pier   \n",
       "26                   Plaza Pizza Dining Room & Lounge             Halifax   \n",
       "27      Papa's Pasta & Steakhouse and District 34 Bar  Barrington Passage   \n",
       "28                                     The Pogue Fado             Halifax   \n",
       "29                        Kings Corner Bar and Grille         Bridgewater   \n",
       "30                     Aly Kat Dining Room and Lounge           Lockeport   \n",
       "31                      Teazer's Dining Room & Lounge             Amherst   \n",
       "32                       Thistle Dining Room & Lounge         New Glasgow   \n",
       "33            Best Kept Secret Dining Room and Lounge           Dartmouth   \n",
       "34                 Glasgow Pub Dining Room and Lounge         New Glasgow   \n",
       "35                                  Acadia University           Wolfville   \n",
       "\n",
       "   suspension_length_days  \n",
       "0                       2  \n",
       "1                       1  \n",
       "2                       2  \n",
       "3                       7  \n",
       "4                       2  \n",
       "5                      90  \n",
       "6                       2  \n",
       "7                       2  \n",
       "8                       2  \n",
       "9                      30  \n",
       "10                      1  \n",
       "11                      2  \n",
       "12                      1  \n",
       "13                      3  \n",
       "14                      2  \n",
       "15                      1  \n",
       "16                      1  \n",
       "17                      2  \n",
       "18                      2  \n",
       "19                      2  \n",
       "20                      1  \n",
       "21                      2  \n",
       "22                      4  \n",
       "23                      7  \n",
       "24                      1  \n",
       "25                      2  \n",
       "26                      2  \n",
       "27                      1  \n",
       "28                      3  \n",
       "29                      2  \n",
       "30                      2  \n",
       "31                      2  \n",
       "32                      1  \n",
       "33                      2  \n",
       "34                      1  \n",
       "35                      2  "
      ]
     },
     "execution_count": 9,
     "metadata": {},
     "output_type": "execute_result"
    }
   ],
   "source": [
    "df"
   ]
  },
  {
   "cell_type": "code",
   "execution_count": 10,
   "metadata": {},
   "outputs": [
    {
     "name": "stdout",
     "output_type": "stream",
     "text": [
      "<class 'pandas.core.frame.DataFrame'>\n",
      "RangeIndex: 36 entries, 0 to 35\n",
      "Data columns (total 4 columns):\n",
      "date                      36 non-null object\n",
      "establishment_name        36 non-null object\n",
      "location                  36 non-null object\n",
      "suspension_length_days    36 non-null object\n",
      "dtypes: object(4)\n",
      "memory usage: 1.2+ KB\n"
     ]
    }
   ],
   "source": [
    "df.info()"
   ]
  },
  {
   "cell_type": "code",
   "execution_count": 11,
   "metadata": {
    "collapsed": true
   },
   "outputs": [],
   "source": [
    "df.date = pd.to_datetime(df.date)"
   ]
  },
  {
   "cell_type": "code",
   "execution_count": 12,
   "metadata": {
    "collapsed": true
   },
   "outputs": [],
   "source": [
    "df.suspension_length_days = df.suspension_length_days.astype(int)"
   ]
  },
  {
   "cell_type": "code",
   "execution_count": 13,
   "metadata": {},
   "outputs": [
    {
     "name": "stdout",
     "output_type": "stream",
     "text": [
      "<class 'pandas.core.frame.DataFrame'>\n",
      "RangeIndex: 36 entries, 0 to 35\n",
      "Data columns (total 4 columns):\n",
      "date                      36 non-null datetime64[ns]\n",
      "establishment_name        36 non-null object\n",
      "location                  36 non-null object\n",
      "suspension_length_days    36 non-null int64\n",
      "dtypes: datetime64[ns](1), int64(1), object(2)\n",
      "memory usage: 1.2+ KB\n"
     ]
    }
   ],
   "source": [
    "df.info()"
   ]
  },
  {
   "cell_type": "code",
   "execution_count": 14,
   "metadata": {
    "collapsed": true
   },
   "outputs": [],
   "source": [
    "df = df.sort_values(by=['establishment_name'], ascending=True)"
   ]
  },
  {
   "cell_type": "code",
   "execution_count": 15,
   "metadata": {},
   "outputs": [
    {
     "data": {
      "text/html": [
       "<div>\n",
       "<style>\n",
       "    .dataframe thead tr:only-child th {\n",
       "        text-align: right;\n",
       "    }\n",
       "\n",
       "    .dataframe thead th {\n",
       "        text-align: left;\n",
       "    }\n",
       "\n",
       "    .dataframe tbody tr th {\n",
       "        vertical-align: top;\n",
       "    }\n",
       "</style>\n",
       "<table border=\"1\" class=\"dataframe\">\n",
       "  <thead>\n",
       "    <tr style=\"text-align: right;\">\n",
       "      <th></th>\n",
       "      <th>date</th>\n",
       "      <th>establishment_name</th>\n",
       "      <th>location</th>\n",
       "      <th>suspension_length_days</th>\n",
       "    </tr>\n",
       "  </thead>\n",
       "  <tbody>\n",
       "    <tr>\n",
       "      <th>35</th>\n",
       "      <td>2017-10-30</td>\n",
       "      <td>Acadia University</td>\n",
       "      <td>Wolfville</td>\n",
       "      <td>2</td>\n",
       "    </tr>\n",
       "    <tr>\n",
       "      <th>30</th>\n",
       "      <td>2016-10-20</td>\n",
       "      <td>Aly Kat Dining Room and Lounge</td>\n",
       "      <td>Lockeport</td>\n",
       "      <td>2</td>\n",
       "    </tr>\n",
       "    <tr>\n",
       "      <th>33</th>\n",
       "      <td>2017-04-06</td>\n",
       "      <td>Best Kept Secret Dining Room and Lounge</td>\n",
       "      <td>Dartmouth</td>\n",
       "      <td>2</td>\n",
       "    </tr>\n",
       "    <tr>\n",
       "      <th>2</th>\n",
       "      <td>2015-08-21</td>\n",
       "      <td>Carriage House Lounge &amp; China King Family Rest...</td>\n",
       "      <td>Port Hawkesbury</td>\n",
       "      <td>2</td>\n",
       "    </tr>\n",
       "    <tr>\n",
       "      <th>24</th>\n",
       "      <td>2012-06-01</td>\n",
       "      <td>Chatterbox Cafe</td>\n",
       "      <td>Pugwash</td>\n",
       "      <td>1</td>\n",
       "    </tr>\n",
       "  </tbody>\n",
       "</table>\n",
       "</div>"
      ],
      "text/plain": [
       "         date                                 establishment_name  \\\n",
       "35 2017-10-30                                  Acadia University   \n",
       "30 2016-10-20                     Aly Kat Dining Room and Lounge   \n",
       "33 2017-04-06            Best Kept Secret Dining Room and Lounge   \n",
       "2  2015-08-21  Carriage House Lounge & China King Family Rest...   \n",
       "24 2012-06-01                                    Chatterbox Cafe   \n",
       "\n",
       "           location  suspension_length_days  \n",
       "35        Wolfville                       2  \n",
       "30        Lockeport                       2  \n",
       "33        Dartmouth                       2  \n",
       "2   Port Hawkesbury                       2  \n",
       "24          Pugwash                       1  "
      ]
     },
     "execution_count": 15,
     "metadata": {},
     "output_type": "execute_result"
    }
   ],
   "source": [
    "df.head()"
   ]
  },
  {
   "cell_type": "code",
   "execution_count": 16,
   "metadata": {
    "collapsed": true
   },
   "outputs": [],
   "source": [
    "df['establishment_name'] = df['establishment_name'] + ', ' + df['location']"
   ]
  },
  {
   "cell_type": "code",
   "execution_count": 17,
   "metadata": {
    "collapsed": true
   },
   "outputs": [],
   "source": [
    "df_2016 = df.loc[(df['date'] > '2015-12-31') & (df['date'] < '2017-01-01')]"
   ]
  },
  {
   "cell_type": "code",
   "execution_count": 18,
   "metadata": {},
   "outputs": [
    {
     "data": {
      "text/html": [
       "<div>\n",
       "<style>\n",
       "    .dataframe thead tr:only-child th {\n",
       "        text-align: right;\n",
       "    }\n",
       "\n",
       "    .dataframe thead th {\n",
       "        text-align: left;\n",
       "    }\n",
       "\n",
       "    .dataframe tbody tr th {\n",
       "        vertical-align: top;\n",
       "    }\n",
       "</style>\n",
       "<table border=\"1\" class=\"dataframe\">\n",
       "  <thead>\n",
       "    <tr style=\"text-align: right;\">\n",
       "      <th></th>\n",
       "      <th>date</th>\n",
       "      <th>establishment_name</th>\n",
       "      <th>location</th>\n",
       "      <th>suspension_length_days</th>\n",
       "    </tr>\n",
       "  </thead>\n",
       "  <tbody>\n",
       "    <tr>\n",
       "      <th>30</th>\n",
       "      <td>2016-10-20</td>\n",
       "      <td>Aly Kat Dining Room and Lounge, Lockeport</td>\n",
       "      <td>Lockeport</td>\n",
       "      <td>2</td>\n",
       "    </tr>\n",
       "    <tr>\n",
       "      <th>29</th>\n",
       "      <td>2016-01-08</td>\n",
       "      <td>Kings Corner Bar and Grille, Bridgewater</td>\n",
       "      <td>Bridgewater</td>\n",
       "      <td>2</td>\n",
       "    </tr>\n",
       "    <tr>\n",
       "      <th>31</th>\n",
       "      <td>2016-11-30</td>\n",
       "      <td>Teazer's Dining Room &amp; Lounge, Amherst</td>\n",
       "      <td>Amherst</td>\n",
       "      <td>2</td>\n",
       "    </tr>\n",
       "  </tbody>\n",
       "</table>\n",
       "</div>"
      ],
      "text/plain": [
       "         date                         establishment_name     location  \\\n",
       "30 2016-10-20  Aly Kat Dining Room and Lounge, Lockeport    Lockeport   \n",
       "29 2016-01-08   Kings Corner Bar and Grille, Bridgewater  Bridgewater   \n",
       "31 2016-11-30     Teazer's Dining Room & Lounge, Amherst      Amherst   \n",
       "\n",
       "    suspension_length_days  \n",
       "30                       2  \n",
       "29                       2  \n",
       "31                       2  "
      ]
     },
     "execution_count": 18,
     "metadata": {},
     "output_type": "execute_result"
    }
   ],
   "source": [
    "df_2016"
   ]
  },
  {
   "cell_type": "code",
   "execution_count": 19,
   "metadata": {
    "collapsed": true
   },
   "outputs": [],
   "source": [
    "plt.rcParams['figure.figsize']=(5,3)"
   ]
  },
  {
   "cell_type": "code",
   "execution_count": 20,
   "metadata": {},
   "outputs": [
    {
     "data": {
      "text/plain": [
       "<matplotlib.figure.Figure at 0x7fba67f805c0>"
      ]
     },
     "execution_count": 20,
     "metadata": {},
     "output_type": "execute_result"
    }
   ],
   "source": [
    "plt.figure()"
   ]
  },
  {
   "cell_type": "code",
   "execution_count": 21,
   "metadata": {
    "collapsed": true
   },
   "outputs": [],
   "source": [
    "sns.set(font_scale=1.25)"
   ]
  },
  {
   "cell_type": "code",
   "execution_count": 22,
   "metadata": {
    "collapsed": true
   },
   "outputs": [],
   "source": [
    "# plt.axis(\"off\")"
   ]
  },
  {
   "cell_type": "code",
   "execution_count": 23,
   "metadata": {},
   "outputs": [],
   "source": [
    "ax = sns.barplot(y=\"establishment_name\", x=\"suspension_length_days\", data=df_2016, ci=None, palette=\"Blues_d\")"
   ]
  },
  {
   "cell_type": "code",
   "execution_count": 24,
   "metadata": {},
   "outputs": [
    {
     "data": {
      "text/plain": [
       "Text(0.5,1,'NS Establishments that were\\n disciplined in 2016')"
      ]
     },
     "execution_count": 24,
     "metadata": {},
     "output_type": "execute_result"
    }
   ],
   "source": [
    "plt.title('NS Establishments that were\\n disciplined in 2016', fontsize=15)"
   ]
  },
  {
   "cell_type": "code",
   "execution_count": 25,
   "metadata": {},
   "outputs": [
    {
     "data": {
      "text/plain": [
       "Text(0.5,0,'Suspension length in days')"
      ]
     },
     "execution_count": 25,
     "metadata": {},
     "output_type": "execute_result"
    }
   ],
   "source": [
    "plt.xlabel('Suspension length in days', fontsize=15)"
   ]
  },
  {
   "cell_type": "code",
   "execution_count": 26,
   "metadata": {},
   "outputs": [
    {
     "data": {
      "text/plain": [
       "Text(0,0.5,' ')"
      ]
     },
     "execution_count": 26,
     "metadata": {},
     "output_type": "execute_result"
    }
   ],
   "source": [
    "plt.ylabel(' ')"
   ]
  },
  {
   "cell_type": "code",
   "execution_count": 27,
   "metadata": {},
   "outputs": [
    {
     "data": {
      "text/plain": [
       "([<matplotlib.axis.XTick at 0x7fba67eec518>,\n",
       "  <matplotlib.axis.XTick at 0x7fbaaf29d4a8>,\n",
       "  <matplotlib.axis.XTick at 0x7fba67e95240>],\n",
       " <a list of 3 Text xticklabel objects>)"
      ]
     },
     "execution_count": 27,
     "metadata": {},
     "output_type": "execute_result"
    }
   ],
   "source": [
    "plt.xticks([0, 1, 2], ['0', '1', '2'])"
   ]
  },
  {
   "cell_type": "code",
   "execution_count": 28,
   "metadata": {},
   "outputs": [
    {
     "data": {
      "image/png": "[encoded data removed]",
      "text/plain": [
       "<matplotlib.figure.Figure at 0x7fba67f805c0>"
      ]
     },
     "metadata": {},
     "output_type": "display_data"
    }
   ],
   "source": [
    "plt.show()"
   ]
  }
 ],
 "metadata": {
  "kernelspec": {
   "display_name": "Python 3.6",
   "language": "python",
   "name": "python36"
  },
  "language_info": {
   "codemirror_mode": {
    "name": "ipython",
    "version": 3
   },
   "file_extension": ".py",
   "mimetype": "text/x-python",
   "name": "python",
   "nbconvert_exporter": "python",
   "pygments_lexer": "ipython3",
   "version": "3.6.2"
  }
 },
 "nbformat": 4,
 "nbformat_minor": 2
}
